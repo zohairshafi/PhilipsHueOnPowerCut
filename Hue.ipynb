{
 "cells": [
  {
   "cell_type": "code",
   "execution_count": 1,
   "metadata": {
    "collapsed": true
   },
   "outputs": [],
   "source": [
    "import urllib3\n",
    "import json\n",
    "import time"
   ]
  },
  {
   "cell_type": "code",
   "execution_count": 2,
   "metadata": {
    "collapsed": false
   },
   "outputs": [],
   "source": [
    "http = urllib3.PoolManager()\n",
    "url = 'http://192.168.0.152/api/vE1eSkyDYr/lights/'"
   ]
  },
  {
   "cell_type": "markdown",
   "metadata": {},
   "source": [
    "<h3> Get Light Data </h3>"
   ]
  },
  {
   "cell_type": "code",
   "execution_count": 3,
   "metadata": {
    "collapsed": false
   },
   "outputs": [
    {
     "name": "stdout",
     "output_type": "stream",
     "text": [
      "\n",
      "Data For Lamp Number 6\n",
      "\n",
      "Name : Zohair’s Ceiling Light\n",
      "On : False\n",
      "Brightness : 204\n",
      "Reachable : True\n",
      "\n",
      "All Data : \n",
      "\n"
     ]
    },
    {
     "data": {
      "text/plain": [
       "{'10': {'capabilities': {'certified': True,\n",
       "   'control': {'maxlumen': 840, 'mindimlevel': 5000},\n",
       "   'streaming': {'proxy': False, 'renderer': False}},\n",
       "  'config': {'archetype': 'classicbulb',\n",
       "   'direction': 'omnidirectional',\n",
       "   'function': 'functional'},\n",
       "  'manufacturername': 'Philips',\n",
       "  'modelid': 'LWB014',\n",
       "  'name': 'Living Room Lamp',\n",
       "  'productid': 'Philips-LWB014-1-A19DLv4',\n",
       "  'productname': 'Hue white lamp',\n",
       "  'state': {'alert': 'none',\n",
       "   'bri': 203,\n",
       "   'mode': 'homeautomation',\n",
       "   'on': False,\n",
       "   'reachable': True},\n",
       "  'swconfigid': '321D79EA',\n",
       "  'swupdate': {'lastinstall': '2018-01-18T09:02:19', 'state': 'noupdates'},\n",
       "  'swversion': '1.29.0_r21169',\n",
       "  'type': 'Dimmable light',\n",
       "  'uniqueid': '00:17:88:01:02:a1:98:db-0b'},\n",
       " '5': {'capabilities': {'certified': True,\n",
       "   'control': {'maxlumen': 840, 'mindimlevel': 5000},\n",
       "   'streaming': {'proxy': False, 'renderer': False}},\n",
       "  'config': {'archetype': 'classicbulb',\n",
       "   'direction': 'omnidirectional',\n",
       "   'function': 'functional'},\n",
       "  'manufacturername': 'Philips',\n",
       "  'modelid': 'LWB014',\n",
       "  'name': 'Living Room Wall',\n",
       "  'productid': 'Philips-LWB014-1-A19DLv3',\n",
       "  'productname': 'Hue white lamp',\n",
       "  'state': {'alert': 'none',\n",
       "   'bri': 203,\n",
       "   'mode': 'homeautomation',\n",
       "   'on': False,\n",
       "   'reachable': True},\n",
       "  'swconfigid': '75D50777',\n",
       "  'swupdate': {'lastinstall': None, 'state': 'noupdates'},\n",
       "  'swversion': '1.29.0_r21169',\n",
       "  'type': 'Dimmable light',\n",
       "  'uniqueid': '00:17:88:01:02:99:f1:95-0b'},\n",
       " '6': {'capabilities': {'certified': True,\n",
       "   'control': {'maxlumen': 840, 'mindimlevel': 5000},\n",
       "   'streaming': {'proxy': False, 'renderer': False}},\n",
       "  'config': {'archetype': 'classicbulb',\n",
       "   'direction': 'omnidirectional',\n",
       "   'function': 'functional'},\n",
       "  'manufacturername': 'Philips',\n",
       "  'modelid': 'LWB014',\n",
       "  'name': 'Zohair’s Ceiling Light',\n",
       "  'productid': 'Philips-LWB014-1-A19DLv4',\n",
       "  'productname': 'Hue white lamp',\n",
       "  'state': {'alert': 'none',\n",
       "   'bri': 204,\n",
       "   'mode': 'homeautomation',\n",
       "   'on': False,\n",
       "   'reachable': True},\n",
       "  'swconfigid': '321D79EA',\n",
       "  'swupdate': {'lastinstall': '2018-01-10T20:03:10', 'state': 'noupdates'},\n",
       "  'swversion': '1.29.0_r21169',\n",
       "  'type': 'Dimmable light',\n",
       "  'uniqueid': '00:17:88:01:02:b4:a4:e8-0b'},\n",
       " '7': {'capabilities': {'certified': True,\n",
       "   'control': {'maxlumen': 840, 'mindimlevel': 5000},\n",
       "   'streaming': {'proxy': False, 'renderer': False}},\n",
       "  'config': {'archetype': 'classicbulb',\n",
       "   'direction': 'omnidirectional',\n",
       "   'function': 'functional'},\n",
       "  'manufacturername': 'Philips',\n",
       "  'modelid': 'LWB014',\n",
       "  'name': 'Zohair’s Lamp',\n",
       "  'productid': 'Philips-LWB014-1-A19DLv4',\n",
       "  'productname': 'Hue white lamp',\n",
       "  'state': {'alert': 'none',\n",
       "   'bri': 178,\n",
       "   'mode': 'homeautomation',\n",
       "   'on': True,\n",
       "   'reachable': True},\n",
       "  'swconfigid': '321D79EA',\n",
       "  'swupdate': {'lastinstall': '2018-01-10T20:03:15', 'state': 'noupdates'},\n",
       "  'swversion': '1.29.0_r21169',\n",
       "  'type': 'Dimmable light',\n",
       "  'uniqueid': '00:17:88:01:02:ef:54:86-0b'},\n",
       " '8': {'capabilities': {'certified': True,\n",
       "   'control': {'maxlumen': 840, 'mindimlevel': 5000},\n",
       "   'streaming': {'proxy': False, 'renderer': False}},\n",
       "  'config': {'archetype': 'classicbulb',\n",
       "   'direction': 'omnidirectional',\n",
       "   'function': 'functional'},\n",
       "  'manufacturername': 'Philips',\n",
       "  'modelid': 'LWB014',\n",
       "  'name': 'Omair’s Lamp',\n",
       "  'productid': 'Philips-LWB014-1-A19DLv3',\n",
       "  'productname': 'Hue white lamp',\n",
       "  'state': {'alert': 'none',\n",
       "   'bri': 203,\n",
       "   'mode': 'homeautomation',\n",
       "   'on': True,\n",
       "   'reachable': False},\n",
       "  'swconfigid': '75D50777',\n",
       "  'swupdate': {'lastinstall': None, 'state': 'noupdates'},\n",
       "  'swversion': '1.29.0_r21169',\n",
       "  'type': 'Dimmable light',\n",
       "  'uniqueid': '00:17:88:01:03:5b:01:2e-0b'},\n",
       " '9': {'capabilities': {'certified': True,\n",
       "   'control': {'maxlumen': 840, 'mindimlevel': 5000},\n",
       "   'streaming': {'proxy': False, 'renderer': False}},\n",
       "  'config': {'archetype': 'classicbulb',\n",
       "   'direction': 'omnidirectional',\n",
       "   'function': 'functional'},\n",
       "  'manufacturername': 'Philips',\n",
       "  'modelid': 'LWB014',\n",
       "  'name': 'Master Lamp',\n",
       "  'productid': 'Philips-LWB014-1-A19DLv4',\n",
       "  'productname': 'Hue white lamp',\n",
       "  'state': {'alert': 'none',\n",
       "   'bri': 178,\n",
       "   'mode': 'homeautomation',\n",
       "   'on': False,\n",
       "   'reachable': True},\n",
       "  'swconfigid': '321D79EA',\n",
       "  'swupdate': {'lastinstall': '2018-01-10T20:49:59', 'state': 'noupdates'},\n",
       "  'swversion': '1.29.0_r21169',\n",
       "  'type': 'Dimmable light',\n",
       "  'uniqueid': '00:17:88:01:02:a1:c0:73-0b'}}"
      ]
     },
     "execution_count": 3,
     "metadata": {},
     "output_type": "execute_result"
    }
   ],
   "source": [
    "response = http.request('GET', url)\n",
    "readableData = json.loads(response.data.decode('utf-8'))\n",
    "\n",
    "lamp = 6\n",
    "print (\"\\nData For Lamp Number \" + str(lamp) + \"\\n\")\n",
    "\n",
    "on = readableData[str(lamp)]['state']['on']\n",
    "bri = readableData[str(lamp)]['state']['bri']\n",
    "reachable = readableData[str(lamp)]['state']['reachable']\n",
    "name = readableData[str(lamp)]['name']\n",
    "\n",
    "print (\"Name : \" + name + \"\\nOn : \" + str(on) + \"\\nBrightness : \" + str(bri) + \"\\nReachable : \" + str(reachable) + \"\\n\")\n",
    "\n",
    "\n",
    "print (\"All Data : \\n\")\n",
    "readableData\n"
   ]
  },
  {
   "cell_type": "markdown",
   "metadata": {},
   "source": [
    "<h3> Set Ligts </h3>"
   ]
  },
  {
   "cell_type": "code",
   "execution_count": 4,
   "metadata": {
    "collapsed": false
   },
   "outputs": [
    {
     "data": {
      "text/plain": [
       "<urllib3.response.HTTPResponse at 0x1089f5cc0>"
      ]
     },
     "execution_count": 4,
     "metadata": {},
     "output_type": "execute_result"
    }
   ],
   "source": [
    "lamp = 6\n",
    "on = False\n",
    "bri = 200\n",
    "http.request('PUT', 'http://192.168.0.152/api/vE1eSkyDYr/lights/' + str(lamp) + '/state/', body = '{\"on\" : ' + str(on).lower() + \",\" + '\"bri\" : ' +  str(bri) + '}')"
   ]
  },
  {
   "cell_type": "markdown",
   "metadata": {},
   "source": [
    "<h3> Work With Power Cuts </h3>"
   ]
  },
  {
   "cell_type": "code",
   "execution_count": null,
   "metadata": {
    "collapsed": false
   },
   "outputs": [],
   "source": [
    "# Change The Following Dictionaries To Reflect Your Lamp Numbers\n",
    "previousBriDict = {9 : 100, 10 : 100, 6 : 100, 7 : 100, 8 : 100, 5 : 100}\n",
    "previousStateDict = {9 : True, 10 : True, 6 : True, 7 : True, 8 : True, 5 : True}\n",
    "\n",
    "while True:\n",
    "    \n",
    "    reachableLamps = []\n",
    "    reachableCount = 0\n",
    "    powerCutConfidence = 0\n",
    "    \n",
    "    # Incase Power Cut Takes Out WiFi Too\n",
    "    errorFlag = True\n",
    "    \n",
    "    while errorFlag == True:\n",
    "    \n",
    "        try :\n",
    "            response = http.request('GET', url)\n",
    "            readableData = json.loads(response.data.decode('utf-8'))\n",
    "            errorFlag = False\n",
    "\n",
    "        except : \n",
    "            errorFlag = True\n",
    "            time.sleep(5)\n",
    "            \n",
    "    for lamp in readableData:\n",
    "        \n",
    "        reachable = readableData[str(lamp)]['state']['reachable']\n",
    "        \n",
    "        if reachable == True:\n",
    "            \n",
    "            reachableLamps.append(lamp)\n",
    "            reachableCount = reachableCount + 1\n",
    "    \n",
    "    for lamp in reachableLamps:\n",
    "        \n",
    "        if readableData[str(lamp)]['state']['bri'] == 254 and readableData[str(lamp)]['state']['on'] == True:\n",
    "            \n",
    "            powerCutConfidence = powerCutConfidence + 1\n",
    "\n",
    "    if powerCutConfidence == reachableCount : \n",
    "        \n",
    "        for lamp in reachableLamps:\n",
    "            \n",
    "            # Set To Previous Values\n",
    "            http.request('PUT', 'http://192.168.0.152/api/vE1eSkyDYr/lights/' + str(lamp) + '/state/', body = '{\"on\" : ' + str(previousStateDict[lamp]).lower() + \",\" + '\"bri\" : ' +  str(previousBriDict[lamp]) + '}')\n",
    "            \n",
    "            # print (readableData[str(lamp)]['name'])\n",
    "            # print (\"Setting To Previous On : \", str(previousStateDict[lamp]))\n",
    "            # print (\"Setting To Previous Brightness : \", str(previousBriDict[lamp]))\n",
    "            # print (\"\")\n",
    "        \n",
    "    else :\n",
    "        \n",
    "        for lamp in reachableLamps:\n",
    "    \n",
    "            # Set Current Values\n",
    "            previousStateDict[lamp] = readableData[str(lamp)]['state']['on']\n",
    "            previousBriDict[lamp] = readableData[str(lamp)]['state']['bri']\n",
    "\n",
    "\n",
    "    time.sleep(10)\n"
   ]
  },
  {
   "cell_type": "code",
   "execution_count": null,
   "metadata": {
    "collapsed": false
   },
   "outputs": [],
   "source": []
  },
  {
   "cell_type": "code",
   "execution_count": null,
   "metadata": {
    "collapsed": false
   },
   "outputs": [],
   "source": []
  },
  {
   "cell_type": "code",
   "execution_count": null,
   "metadata": {
    "collapsed": false,
    "scrolled": true
   },
   "outputs": [],
   "source": []
  },
  {
   "cell_type": "code",
   "execution_count": null,
   "metadata": {
    "collapsed": true
   },
   "outputs": [],
   "source": []
  }
 ],
 "metadata": {
  "anaconda-cloud": {},
  "kernelspec": {
   "display_name": "Python [default]",
   "language": "python",
   "name": "python3"
  },
  "language_info": {
   "codemirror_mode": {
    "name": "ipython",
    "version": 3
   },
   "file_extension": ".py",
   "mimetype": "text/x-python",
   "name": "python",
   "nbconvert_exporter": "python",
   "pygments_lexer": "ipython3",
   "version": "3.5.2"
  }
 },
 "nbformat": 4,
 "nbformat_minor": 1
}
